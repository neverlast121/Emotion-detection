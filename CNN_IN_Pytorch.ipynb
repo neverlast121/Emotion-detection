{
  "nbformat": 4,
  "nbformat_minor": 0,
  "metadata": {
    "colab": {
      "provenance": [],
      "authorship_tag": "ABX9TyNFtqwY1LSCmF5Bgp3bU8ot",
      "include_colab_link": true
    },
    "kernelspec": {
      "name": "python3",
      "display_name": "Python 3"
    },
    "language_info": {
      "name": "python"
    }
  },
  "cells": [
    {
      "cell_type": "markdown",
      "metadata": {
        "id": "view-in-github",
        "colab_type": "text"
      },
      "source": [
        "<a href=\"https://colab.research.google.com/github/neverlast121/Emotion-detection-using-Deepface/blob/main/CNN_IN_Pytorch.ipynb\" target=\"_parent\"><img src=\"https://colab.research.google.com/assets/colab-badge.svg\" alt=\"Open In Colab\"/></a>"
      ]
    },
    {
      "cell_type": "code",
      "execution_count": null,
      "metadata": {
        "id": "iBquGO1TPRGV"
      },
      "outputs": [],
      "source": [
        "import torch\n",
        "import torch.nn as nn\n",
        "import torch.nn.functional as F\n",
        "import torchvision\n",
        "from torchvision import datasets\n",
        "from torch.utils.data import DataLoader\n",
        "import torchvision.transforms as transforms\n",
        "import matplotlib.pyplot as plt\n",
        "import numpy as np"
      ]
    },
    {
      "cell_type": "code",
      "source": [
        "device = torch.device('cuda' if torch.cuda.is_available() else 'cpu')"
      ],
      "metadata": {
        "id": "a_wxhK4rQQs8"
      },
      "execution_count": null,
      "outputs": []
    },
    {
      "cell_type": "code",
      "source": [
        "# hyper _parameters\n",
        "num_epoch = 10\n",
        "batch_size = 4\n",
        "learning_rate = 1e-3\n",
        "\n",
        "# data tranformation\n",
        "transform = transforms.Compose(\n",
        "    [\n",
        "        transforms.ToTensor(),\n",
        "        transforms.Normalize((0.5, 0.5, 0.5), (0.5, 0.5, 0.5))\n",
        "    ]\n",
        ")"
      ],
      "metadata": {
        "id": "v-QsCSbjQFd0"
      },
      "execution_count": null,
      "outputs": []
    },
    {
      "cell_type": "code",
      "source": [
        "# downloading data from torchvision datasets\n",
        "\n",
        "train_data = datasets.CIFAR10(\n",
        "    root ='data',\n",
        "    train = True,\n",
        "    download = True,\n",
        "    transform = transform\n",
        ")\n",
        "\n",
        "test_data = datasets.CIFAR10(\n",
        "    root = 'data',\n",
        "    train = False,\n",
        "    download = True,\n",
        "    transform = transform\n",
        "\n",
        ")"
      ],
      "metadata": {
        "colab": {
          "base_uri": "https://localhost:8080/"
        },
        "id": "EjrEwRSQRUI3",
        "outputId": "b3f65b9a-7425-4035-b1ec-67c2613a5f63"
      },
      "execution_count": null,
      "outputs": [
        {
          "output_type": "stream",
          "name": "stdout",
          "text": [
            "Downloading https://www.cs.toronto.edu/~kriz/cifar-10-python.tar.gz to data/cifar-10-python.tar.gz\n"
          ]
        },
        {
          "output_type": "stream",
          "name": "stderr",
          "text": [
            "100%|██████████| 170498071/170498071 [00:05<00:00, 29024579.64it/s]\n"
          ]
        },
        {
          "output_type": "stream",
          "name": "stdout",
          "text": [
            "Extracting data/cifar-10-python.tar.gz to data\n",
            "Files already downloaded and verified\n"
          ]
        }
      ]
    },
    {
      "cell_type": "code",
      "source": [
        "# dataloader\n",
        "\n",
        "train_loader = DataLoader(\n",
        "    dataset = train_data,\n",
        "    batch_size = batch_size,\n",
        "    shuffle = True\n",
        "\n",
        ")\n",
        "\n",
        "test_loader = DataLoader(\n",
        "    dataset = test_data,\n",
        "    batch_size = batch_size,\n",
        "    shuffle = False\n",
        ")"
      ],
      "metadata": {
        "id": "eP0pWQncSMUn"
      },
      "execution_count": null,
      "outputs": []
    },
    {
      "cell_type": "code",
      "source": [
        "classes = ('plane', 'car', 'bird', 'cat', 'deer', 'dog', 'frog', 'horse', 'ship', 'truck')"
      ],
      "metadata": {
        "id": "704ehd1_SMTW"
      },
      "execution_count": null,
      "outputs": []
    },
    {
      "cell_type": "code",
      "source": [
        "# ConvNet\n",
        "class ConvNet(nn.Module):\n",
        "  def __init__(self):\n",
        "    super().__init__()\n",
        "    self.model = nn.Sequential(\n",
        "        nn.Conv2d(3, 6, kernel_size = 5),\n",
        "        nn.ReLU(),\n",
        "        nn.MaxPool2d(2, 2),\n",
        "        nn.Conv2d(6, 16, kernel_size = 5),\n",
        "        nn.ReLU(),\n",
        "        nn.MaxPool2d(2, 2),\n",
        "        nn.Flatten(),\n",
        "        nn.Linear(16*5*5, 120),\n",
        "        nn.ReLU(),\n",
        "        nn.Linear(120, 84),\n",
        "        nn.ReLU(),\n",
        "        nn.Linear(84, 10)\n",
        "    )\n",
        "\n",
        "  def forward(self, x):\n",
        "    out = self.model(x)\n",
        "    return out\n",
        "\n",
        "model = ConvNet().to(device)\n",
        "\n",
        "loss_fn = nn.CrossEntropyLoss()\n",
        "optimizer = torch.optim.SGD(model.parameters(), lr = learning_rate)"
      ],
      "metadata": {
        "id": "tVSKcrUkSMF5"
      },
      "execution_count": null,
      "outputs": []
    },
    {
      "cell_type": "code",
      "source": [
        "# training Loop\n",
        "n_total_step = len(train_loader)\n",
        "for epoch in range(num_epoch):\n",
        "  for i, (images, labels) in enumerate(train_loader):\n",
        "    images = images.to(device)\n",
        "    labels = labels.to(device)\n",
        "\n",
        "    # forward pass\n",
        "    outputs = model(images)\n",
        "    loss = loss_fn(outputs, labels)\n",
        "\n",
        "    # backward optimizer\n",
        "    optimizer.zero_grad()\n",
        "    loss.backward()\n",
        "    optimizer.step()\n",
        "\n",
        "    if (i+1) % 2000 == 0:\n",
        "      print(f' Epoch [{epoch+1}/{num_epoch}], step [{i+1}/ {n_total_step}], loss: {loss.item():.4f}')\n",
        "  print('**** Training Finish ****')"
      ],
      "metadata": {
        "colab": {
          "base_uri": "https://localhost:8080/"
        },
        "id": "nwfa23d9TuFd",
        "outputId": "193fb3e0-8a4a-4f64-8f54-a02d32c630cc"
      },
      "execution_count": null,
      "outputs": [
        {
          "output_type": "stream",
          "name": "stdout",
          "text": [
            " Epoch [1/10], step [2000/ 12500], loss: 2.3559\n",
            " Epoch [1/10], step [4000/ 12500], loss: 2.3110\n",
            " Epoch [1/10], step [6000/ 12500], loss: 2.2759\n",
            " Epoch [1/10], step [8000/ 12500], loss: 2.3074\n",
            " Epoch [1/10], step [10000/ 12500], loss: 2.3008\n",
            " Epoch [1/10], step [12000/ 12500], loss: 2.2955\n",
            "**** Training Finish ****\n",
            " Epoch [2/10], step [2000/ 12500], loss: 2.1442\n",
            " Epoch [2/10], step [4000/ 12500], loss: 2.1182\n",
            " Epoch [2/10], step [6000/ 12500], loss: 2.0751\n",
            " Epoch [2/10], step [8000/ 12500], loss: 1.7095\n",
            " Epoch [2/10], step [10000/ 12500], loss: 1.5448\n",
            " Epoch [2/10], step [12000/ 12500], loss: 1.8485\n",
            "**** Training Finish ****\n",
            " Epoch [3/10], step [2000/ 12500], loss: 2.0874\n",
            " Epoch [3/10], step [4000/ 12500], loss: 1.6865\n",
            " Epoch [3/10], step [6000/ 12500], loss: 1.5529\n",
            " Epoch [3/10], step [8000/ 12500], loss: 1.5361\n",
            " Epoch [3/10], step [10000/ 12500], loss: 1.5658\n",
            " Epoch [3/10], step [12000/ 12500], loss: 1.9058\n",
            "**** Training Finish ****\n",
            " Epoch [4/10], step [2000/ 12500], loss: 3.0201\n",
            " Epoch [4/10], step [4000/ 12500], loss: 1.4735\n",
            " Epoch [4/10], step [6000/ 12500], loss: 1.5311\n",
            " Epoch [4/10], step [8000/ 12500], loss: 1.8973\n",
            " Epoch [4/10], step [10000/ 12500], loss: 0.9990\n",
            " Epoch [4/10], step [12000/ 12500], loss: 1.6679\n",
            "**** Training Finish ****\n",
            " Epoch [5/10], step [2000/ 12500], loss: 1.4441\n",
            " Epoch [5/10], step [4000/ 12500], loss: 0.9844\n",
            " Epoch [5/10], step [6000/ 12500], loss: 1.3657\n",
            " Epoch [5/10], step [8000/ 12500], loss: 1.1286\n",
            " Epoch [5/10], step [10000/ 12500], loss: 1.0078\n",
            " Epoch [5/10], step [12000/ 12500], loss: 0.7184\n",
            "**** Training Finish ****\n",
            " Epoch [6/10], step [2000/ 12500], loss: 1.8419\n",
            " Epoch [6/10], step [4000/ 12500], loss: 1.1062\n",
            " Epoch [6/10], step [6000/ 12500], loss: 0.4972\n",
            " Epoch [6/10], step [8000/ 12500], loss: 1.9498\n",
            " Epoch [6/10], step [10000/ 12500], loss: 0.8685\n",
            " Epoch [6/10], step [12000/ 12500], loss: 1.3981\n",
            "**** Training Finish ****\n",
            " Epoch [7/10], step [2000/ 12500], loss: 1.4170\n",
            " Epoch [7/10], step [4000/ 12500], loss: 1.5308\n",
            " Epoch [7/10], step [6000/ 12500], loss: 1.2609\n",
            " Epoch [7/10], step [8000/ 12500], loss: 1.7424\n",
            " Epoch [7/10], step [10000/ 12500], loss: 1.4831\n",
            " Epoch [7/10], step [12000/ 12500], loss: 1.4646\n",
            "**** Training Finish ****\n",
            " Epoch [8/10], step [2000/ 12500], loss: 1.0589\n",
            " Epoch [8/10], step [4000/ 12500], loss: 0.8613\n",
            " Epoch [8/10], step [6000/ 12500], loss: 2.4108\n",
            " Epoch [8/10], step [8000/ 12500], loss: 2.3055\n",
            " Epoch [8/10], step [10000/ 12500], loss: 1.9367\n",
            " Epoch [8/10], step [12000/ 12500], loss: 1.2699\n",
            "**** Training Finish ****\n",
            " Epoch [9/10], step [2000/ 12500], loss: 1.5184\n",
            " Epoch [9/10], step [4000/ 12500], loss: 1.3434\n",
            " Epoch [9/10], step [6000/ 12500], loss: 0.4339\n",
            " Epoch [9/10], step [8000/ 12500], loss: 1.3733\n",
            " Epoch [9/10], step [10000/ 12500], loss: 1.6720\n",
            " Epoch [9/10], step [12000/ 12500], loss: 1.7202\n",
            "**** Training Finish ****\n",
            " Epoch [10/10], step [2000/ 12500], loss: 1.4991\n",
            " Epoch [10/10], step [4000/ 12500], loss: 1.3688\n",
            " Epoch [10/10], step [6000/ 12500], loss: 1.6353\n",
            " Epoch [10/10], step [8000/ 12500], loss: 2.1833\n",
            " Epoch [10/10], step [10000/ 12500], loss: 1.1675\n",
            " Epoch [10/10], step [12000/ 12500], loss: 1.1138\n",
            "**** Training Finish ****\n"
          ]
        }
      ]
    },
    {
      "cell_type": "code",
      "source": [
        "with torch.no_grad():\n",
        "  n_correct = 0\n",
        "  n_samples = 0\n",
        "  n_class_correct = [0 for i in range(10)]\n",
        "  n_class_samples = [0 for i in range(10)]\n",
        "  for images, labels in test_loader:\n",
        "    images = images.to(device)\n",
        "    labels = labels.to(device)\n",
        "    outputs = model(images)\n",
        "\n",
        "    # max return (value, index)\n",
        "    _, predictions = torch.max(outputs, 1)\n",
        "    n_samples += labels.size(0)\n",
        "    n_correct += (predictions == labels).sum().item()\n",
        "\n",
        "    for i in range(batch_size):\n",
        "      label = labels[i]\n",
        "      pred = predictions[i]\n",
        "      if (label == pred):\n",
        "        n_class_correct[label] += 1\n",
        "      n_class_samples[label] += 1\n",
        "\n",
        "  acc = 100.0 * n_correct/ n_samples\n",
        "  print(f'Accuracy: {acc}%')\n",
        "\n",
        "  for i in range(10):\n",
        "    acc = 100.0 * n_class_correct[i] / n_class_samples[i]\n",
        "    print(f'Accuracy of {classes[i]}: {acc}%')"
      ],
      "metadata": {
        "colab": {
          "base_uri": "https://localhost:8080/"
        },
        "id": "CpC6OkfXTuDi",
        "outputId": "99de7d30-8b03-4182-e608-bcc95950c56d"
      },
      "execution_count": null,
      "outputs": [
        {
          "output_type": "stream",
          "name": "stdout",
          "text": [
            "Accuracy: 53.98%\n",
            "Accuracy of plane: 69.3%\n",
            "Accuracy of car: 77.8%\n",
            "Accuracy of bird: 31.4%\n",
            "Accuracy of cat: 31.4%\n",
            "Accuracy of deer: 42.5%\n",
            "Accuracy of dog: 30.4%\n",
            "Accuracy of frog: 70.1%\n",
            "Accuracy of horse: 78.5%\n",
            "Accuracy of ship: 55.6%\n",
            "Accuracy of truck: 52.8%\n"
          ]
        }
      ]
    }
  ]
}